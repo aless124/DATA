{
 "cells": [
  {
   "cell_type": "markdown",
   "id": "2d854065-2d0d-431b-99b7-6ec891c0e083",
   "metadata": {},
   "source": [
    "Import\n",
    "\n"
   ]
  },
  {
   "cell_type": "code",
   "execution_count": 3,
   "id": "6286dd88-328a-47ea-b55b-627120eebd42",
   "metadata": {},
   "outputs": [],
   "source": [
    "import mysql.connector\n",
    "from mysql.connector import Error\n"
   ]
  },
  {
   "cell_type": "markdown",
   "id": "73f7c471-d6db-4ac1-b412-304dc25734e8",
   "metadata": {},
   "source": [
    "Nom DB : \n",
    "\n",
    "user : aless\n",
    "\n",
    "password : farajallah"
   ]
  },
  {
   "cell_type": "code",
   "execution_count": 36,
   "id": "a7a9de0f-9b50-47bd-9e97-91d87e0bd6d9",
   "metadata": {},
   "outputs": [],
   "source": [
    "import csv\n",
    "\n",
    "# Ouvre le fichier CSV en lecture\n",
    "with open('test.csv', 'r',encoding='UTF8') as file:\n",
    "  # Crée un objet reader pour lire le fichier CSV\n",
    "  reader = csv.reader(file)\n",
    "  # Crée une liste pour stocker les lignes du fichier\n",
    "  rows = []\n",
    "  # Pour chaque ligne du fichier CSV\n",
    "  for row in reader:\n",
    "    # Enleve la colonne à supprimer\n",
    "    del row[0]\n",
    "    # Ajoute la ligne modifiée à la liste\n",
    "    rows.append(row)\n",
    "\n",
    "# Ouvre le fichier CSV en écriture\n",
    "with open('test.csv', 'w', encoding='UTF8',newline='') as file:\n",
    "  # Crée un objet writer pour écrire dans le fichier CSV\n",
    "  writer = csv.writer(file)\n",
    "  # Écrit chaque ligne de la liste dans le fichier CSV\n",
    "  for row in rows:\n",
    "    writer.writerow(row)\n"
   ]
  },
  {
   "cell_type": "code",
   "execution_count": 9,
   "id": "06d1a8ba-f2a9-44c5-b889-fab58eca90ee",
   "metadata": {
    "tags": []
   },
   "outputs": [
    {
     "name": "stdout",
     "output_type": "stream",
     "text": [
      "Error while connecting to MySQL 2003 (HY000): Can't connect to MySQL server on '192.168.45.139:3306' (10060)\n"
     ]
    }
   ],
   "source": [
    "import pandas as pd\n",
    "scanData = pd.read_csv('test.csv', index_col=False, delimiter = ',')\n",
    "scanData.head()\n",
    "\n",
    "try:\n",
    "    conn = mysql.connector.connect(host='192.168.45.139', database='db_scan', user='root', password='password')\n",
    "    if conn.is_connected():\n",
    "        cursor = conn.cursor()\n",
    "        cursor.execute(\"select database();\")\n",
    "        record = cursor.fetchone()\n",
    "        print(\"You're connected to database: \", record)\n",
    "        cursor.execute('DROP TABLE IF EXISTS Scan;')\n",
    "        print('Creating table....')\n",
    "# in the below line please pass the create table statement which you want #to create\n",
    "        cursor.execute(\"CREATE TABLE Scan(nan varchar(255),Titre varchar(255),Origine varchar(255),Source_Status varchar(255),Age_Rating varchar(255),Release_Status varchar(255),Total_Chapter_x varchar(255),Last_Update varchar(255),Summary text,Image varchar(255),Date_de_sortie varchar(255),Total_Chapter_y varchar(255),Type varchar(255),Genre text)\")\n",
    "        print(\"Table is created....\")\n",
    "        #loop through the data frames\n",
    "        for i,row in scanData.iterrows():\n",
    "            #here %S means string values \n",
    "            sql = \"INSERT INTO db_scan.Scan VALUES (%s,%s,%s,%s,%s,%s,%s,%s,%s,%s,%s,%s,%s,%s)\"   # 13 values\n",
    "            cursor.execute(sql, tuple(row))\n",
    "            print(\"Record inserted\")\n",
    "            # the connection is not auto committed by default, so we must commit to save our changes\n",
    "            conn.commit()\n",
    "except Error as e:\n",
    "            print(\"Error while connecting to MySQL\", e)"
   ]
  },
  {
   "cell_type": "code",
   "execution_count": null,
   "id": "471f9cc6-2e6c-4196-a226-3e6444fc6ba0",
   "metadata": {
    "collapsed": true,
    "jupyter": {
     "outputs_hidden": true
    },
    "tags": []
   },
   "outputs": [
    {
     "ename": "NameError",
     "evalue": "name 'cursor' is not defined",
     "output_type": "error",
     "traceback": [
      "\u001b[1;31m---------------------------------------------------------------------------\u001b[0m",
      "\u001b[1;31mNameError\u001b[0m                                 Traceback (most recent call last)",
      "\u001b[1;32m~\\AppData\\Local\\Temp\\ipykernel_26904\\1191651810.py\u001b[0m in \u001b[0;36m<module>\u001b[1;34m\u001b[0m\n\u001b[0;32m      1\u001b[0m \u001b[1;31m# Execute query\u001b[0m\u001b[1;33m\u001b[0m\u001b[1;33m\u001b[0m\u001b[0m\n\u001b[0;32m      2\u001b[0m \u001b[0msql\u001b[0m \u001b[1;33m=\u001b[0m \u001b[1;34m\"SELECT * FROM db_scan.Scan\"\u001b[0m\u001b[1;33m\u001b[0m\u001b[1;33m\u001b[0m\u001b[0m\n\u001b[1;32m----> 3\u001b[1;33m \u001b[0mcursor\u001b[0m\u001b[1;33m.\u001b[0m\u001b[0mexecute\u001b[0m\u001b[1;33m(\u001b[0m\u001b[0msql\u001b[0m\u001b[1;33m)\u001b[0m\u001b[1;33m\u001b[0m\u001b[1;33m\u001b[0m\u001b[0m\n\u001b[0m\u001b[0;32m      4\u001b[0m \u001b[1;31m# Fetch all the records\u001b[0m\u001b[1;33m\u001b[0m\u001b[1;33m\u001b[0m\u001b[0m\n\u001b[0;32m      5\u001b[0m \u001b[0mresult\u001b[0m \u001b[1;33m=\u001b[0m \u001b[0mcursor\u001b[0m\u001b[1;33m.\u001b[0m\u001b[0mfetchall\u001b[0m\u001b[1;33m(\u001b[0m\u001b[1;33m)\u001b[0m\u001b[1;33m\u001b[0m\u001b[1;33m\u001b[0m\u001b[0m\n",
      "\u001b[1;31mNameError\u001b[0m: name 'cursor' is not defined"
     ]
    }
   ],
   "source": [
    "# Execute query\n",
    "sql = \"SELECT * FROM db_scan.Scan\"\n",
    "cursor.execute(sql)\n",
    "# Fetch all the records\n",
    "result = cursor.fetchall()\n",
    "for i in result:\n",
    "    print(i)"
   ]
  },
  {
   "cell_type": "markdown",
   "id": "1e609665-2d75-4763-80e8-6484ed5604ab",
   "metadata": {
    "jupyter": {
     "source_hidden": true
    },
    "tags": []
   },
   "source": [
    "\n",
    "    open terminal\n",
    "    type: mysql -u root -p\n",
    "    provide password when prompted\n",
    "    run: show databases [check if there is multiple database and identify which-one you need to work with]\n",
    "    run: use your_database_name\n",
    "    run: show tables;\n",
    "    now run or check table entries however you like to check like describe table-name , select queries or anyway you prefer."
   ]
  },
  {
   "cell_type": "code",
   "execution_count": 3,
   "id": "e3fd7b0e-b83b-496f-8f84-f3e66380ea81",
   "metadata": {
    "tags": []
   },
   "outputs": [
    {
     "ename": "NameError",
     "evalue": "name 'cursor' is not defined",
     "output_type": "error",
     "traceback": [
      "\u001b[1;31m---------------------------------------------------------------------------\u001b[0m",
      "\u001b[1;31mNameError\u001b[0m                                 Traceback (most recent call last)",
      "\u001b[1;32m~\\AppData\\Local\\Temp\\ipykernel_26904\\3667203347.py\u001b[0m in \u001b[0;36m<module>\u001b[1;34m\u001b[0m\n\u001b[0;32m      2\u001b[0m \u001b[1;32mimport\u001b[0m \u001b[0mmatplotlib\u001b[0m\u001b[1;33m.\u001b[0m\u001b[0mpyplot\u001b[0m \u001b[1;32mas\u001b[0m \u001b[0mplt\u001b[0m\u001b[1;33m\u001b[0m\u001b[1;33m\u001b[0m\u001b[0m\n\u001b[0;32m      3\u001b[0m \u001b[1;33m\u001b[0m\u001b[0m\n\u001b[1;32m----> 4\u001b[1;33m \u001b[0mcursor\u001b[0m\u001b[1;33m.\u001b[0m\u001b[0mexecute\u001b[0m\u001b[1;33m(\u001b[0m\u001b[1;34m\"SELECT Age_Rating FROM db_scan.Scan\"\u001b[0m\u001b[1;33m)\u001b[0m\u001b[1;33m\u001b[0m\u001b[1;33m\u001b[0m\u001b[0m\n\u001b[0m\u001b[0;32m      5\u001b[0m \u001b[0mresult\u001b[0m \u001b[1;33m=\u001b[0m \u001b[0mcursor\u001b[0m\u001b[1;33m.\u001b[0m\u001b[0mfetchall\u001b[0m\u001b[1;33m(\u001b[0m\u001b[1;33m)\u001b[0m\u001b[1;33m\u001b[0m\u001b[1;33m\u001b[0m\u001b[0m\n\u001b[0;32m      6\u001b[0m \u001b[1;33m\u001b[0m\u001b[0m\n",
      "\u001b[1;31mNameError\u001b[0m: name 'cursor' is not defined"
     ]
    }
   ],
   "source": [
    "# library\n",
    "import matplotlib.pyplot as plt\n",
    " \n",
    "cursor.execute(\"SELECT Age_Rating FROM db_scan.Scan\")\n",
    "result = cursor.fetchall()\n",
    "    \n",
    "# create random data\n",
    "names='All Ages', 'Teen(13+)', 'Youth(10+)', 'Older Teen (16+)'\n",
    "\n",
    "Titres = []\n",
    "\n",
    "for i in result:\n",
    "    Titres.append(i)\n",
    "    \n",
    "print(Titres)\n",
    "# Create a pieplot\n",
    "#plt.pie(Titres)\n",
    "\n",
    "# Label distance: gives the space between labels and the center of the pie\n",
    "#plt.pie(Titres, labels=names, labeldistance=1.15);\n"
   ]
  },
  {
   "cell_type": "code",
   "execution_count": 2,
   "id": "ef1beb49-0135-4561-8b6e-518713a6c240",
   "metadata": {
    "tags": []
   },
   "outputs": [
    {
     "name": "stdout",
     "output_type": "stream",
     "text": [
      "% pour AllAges :  0.5\n",
      "% pour Youth10 :  8.33\n",
      "% pour Teen12 :  35.39\n",
      "% pour Teen13 :  0.84\n",
      "% pour Teen14 :  45.47\n",
      "% pour Teen16 :  5.94\n",
      "% pour No Data :  3.53\n"
     ]
    },
    {
     "data": {
      "image/png": "[encoded data removed]",
      "text/plain": [
       "<Figure size 640x480 with 1 Axes>"
      ]
     },
     "metadata": {},
     "output_type": "display_data"
    }
   ],
   "source": [
    "# library\n",
    "import matplotlib.pyplot as plt\n",
    "\n",
    "\n",
    "TotalScan = 7251\n",
    "AllAges = round(36 / TotalScan * 100, 2)\n",
    "Youth10 = round((11 + 593) / TotalScan * 100, 2)\n",
    "Teen12 = round(2566 / TotalScan * 100, 2)\n",
    "Teen13 = round(61 / TotalScan * 100, 2)\n",
    "Teen14 = round(3297 / TotalScan * 100, 2)\n",
    "Teen16 = round((18 + 413) / TotalScan * 100, 2)\n",
    "\n",
    "print(\"% pour AllAges : \", AllAges)\n",
    "print(\"% pour Youth10 : \", Youth10)\n",
    "print(\"% pour Teen12 : \", Teen12)\n",
    "print(\"% pour Teen13 : \", Teen13)\n",
    "print(\"% pour Teen14 : \", Teen14)\n",
    "print(\"% pour Teen16 : \", Teen16)\n",
    "\n",
    "Total = AllAges + Youth10 + Teen12 + Teen13 + Teen14 + Teen16\n",
    "Reste = round(100 - Total, 2)\n",
    "arr = [AllAges,Teen13, Youth10, Teen12,  Teen14, Teen16, Reste]\n",
    "\n",
    "print(\"% pour No Data : \", Reste)\n",
    "\n",
    "\n",
    "\n",
    "    \n",
    "# create random data\n",
    "names=['All Ages', 'Teen(13+)', 'Youth(10+)','12+', '14+','Older Teen (16+)','Reste']\n",
    "labels = names\n",
    "\n",
    "#plt.pie(Total)\n",
    "\n",
    "# Label distance: gives the space between labels and the center of the pie\n",
    "plt.pie(arr, labels=labels, labeldistance=2.15);\n",
    "plt.show();"
   ]
  },
  {
   "cell_type": "code",
   "execution_count": 4,
   "id": "6d4ecc05-37d4-4c74-b787-9c87582ef3b2",
   "metadata": {},
   "outputs": [
    {
     "data": {
      "text/plain": [
       "array([], dtype=bool)"
      ]
     },
     "execution_count": 6,
     "metadata": {},
     "output_type": "execute_result"
    }
   ],
   "source": [
    "import numpy as np\n",
    "np.isnan(result)"
   ]
  },
  {
   "cell_type": "code",
   "execution_count": null,
   "id": "b30eab4b-604d-47d5-a634-0d807b449aae",
   "metadata": {},
   "outputs": [],
   "source": []
  }
 ],
 "metadata": {
  "kernelspec": {
   "display_name": "Python 3 (ipykernel)",
   "language": "python",
   "name": "python3"
  },
  "language_info": {
   "codemirror_mode": {
    "name": "ipython",
    "version": 3
   },
   "file_extension": ".py",
   "mimetype": "text/x-python",
   "name": "python",
   "nbconvert_exporter": "python",
   "pygments_lexer": "ipython3",
   "version": "3.9.13"
  }
 },
 "nbformat": 4,
 "nbformat_minor": 5
}
