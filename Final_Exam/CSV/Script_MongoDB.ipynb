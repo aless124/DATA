{
 "cells": [
  {
   "attachments": {},
   "cell_type": "markdown",
   "metadata": {},
   "source": [
    "**Import**"
   ]
  },
  {
   "cell_type": "code",
   "execution_count": 16,
   "metadata": {},
   "outputs": [],
   "source": [
    "from pymongo import MongoClient\n",
    "import pandas as pd\n",
    "import numpy as np\n",
    "import streamlit as st\n",
    "import seaborn as sns\n",
    "import matplotlib as mpl\n",
    "import matplotlib.pyplot as plt"
   ]
  },
  {
   "cell_type": "code",
   "execution_count": 11,
   "metadata": {},
   "outputs": [
    {
     "name": "stdout",
     "output_type": "stream",
     "text": [
      "Data inserted in the database\n"
     ]
    }
   ],
   "source": [
    "def get_database():\n",
    " \n",
    "\n",
    " \n",
    "   # Create a connection using MongoClient. You can import MongoClient or use pymongo.MongoClient\n",
    "   client = MongoClient('localhost', 27017)\n",
    " \n",
    "   # Create the database for our example (we will use the same database throughout the tutorial\n",
    "   db = client['final_exam']\n",
    "   collection = db['final_exam']\n",
    "   df = pd.read_csv('./Manhua_JapScan.csv')\n",
    "   df = df.replace(np.nan, '', regex=True)\n",
    "   data = df.to_dict('records')\n",
    "   collection.insert_many(data)\n",
    "   print(\"Data inserted in the database\")\n",
    "  \n",
    "get_database()"
   ]
  },
  {
   "attachments": {},
   "cell_type": "markdown",
   "metadata": {},
   "source": [
    "Some graphics"
   ]
  },
  {
   "cell_type": "code",
   "execution_count": null,
   "metadata": {},
   "outputs": [],
   "source": []
  },
  {
   "cell_type": "markdown",
   "metadata": {},
   "source": []
  },
  {
   "cell_type": "code",
   "execution_count": null,
   "metadata": {},
   "outputs": [],
   "source": []
  }
 ],
 "metadata": {
  "kernelspec": {
   "display_name": "Python 3",
   "language": "python",
   "name": "python3"
  },
  "language_info": {
   "codemirror_mode": {
    "name": "ipython",
    "version": 3
   },
   "file_extension": ".py",
   "mimetype": "text/x-python",
   "name": "python",
   "nbconvert_exporter": "python",
   "pygments_lexer": "ipython3",
   "version": "3.10.11"
  },
  "orig_nbformat": 4
 },
 "nbformat": 4,
 "nbformat_minor": 2
}
